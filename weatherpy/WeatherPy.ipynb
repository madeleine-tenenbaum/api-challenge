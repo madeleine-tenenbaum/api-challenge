{
 "cells": [
  {
   "cell_type": "markdown",
   "metadata": {},
   "source": [
    "# WeatherPy\n",
    "----\n",
    "\n",
    "#### Note\n",
    "* Instructions have been included for each segment. You do not have to follow them exactly, but they are included to help you think through the steps."
   ]
  },
  {
   "cell_type": "code",
   "execution_count": 1,
   "metadata": {
    "scrolled": true
   },
   "outputs": [],
   "source": [
    "# Dependencies and Setup\n",
    "import matplotlib.pyplot as plt\n",
    "import pandas as pd\n",
    "import numpy as np\n",
    "import requests\n",
    "import time\n",
    "from scipy.stats import linregress\n",
    "\n",
    "# Import API key\n",
    "from api_keys import weather_api_key\n",
    "\n",
    "# Incorporated citipy to determine city based on latitude and longitude\n",
    "from citipy import citipy\n",
    "\n",
    "# Output File (CSV)\n",
    "output_data_file = \"output_data/cities.csv\"\n",
    "\n",
    "# Range of latitudes and longitudes\n",
    "lat_range = (-90, 90)\n",
    "lng_range = (-180, 180)"
   ]
  },
  {
   "cell_type": "markdown",
   "metadata": {},
   "source": [
    "## Generate Cities List"
   ]
  },
  {
   "cell_type": "code",
   "execution_count": 2,
   "metadata": {},
   "outputs": [
    {
     "name": "stdout",
     "output_type": "stream",
     "text": [
      "['woodstock', 'faanui', 'vaini', 'puerto ayora', 'tsihombe', 'tuatapere', 'haibowan', 'hithadhoo', 'saskylakh', 'mataura', 'samarai', 'rikitea', 'la rioja', 'iqaluit', 'mayya', 'punta arenas', 'castro', 'albany', 'aklavik', 'chokurdakh', 'ushuaia', 'georgetown', 'carnarvon', 'acapulco', 'bredasdorp', 'torbay', 'kaputa', 'podporozhye', 'nelson bay', 'karratha', 'kloulklubed', 'dingle', 'nipawin', 'port alfred', 'volnovakha', 'estacion coahuila', 'ribeira grande', 'tuktoyaktuk', 'cayenne', 'walvis bay', 'nabire', 'rio gallegos', 'magangue', 'jamestown', 'barinas', 'bathsheba', 'sao joao da barra', 'kahului', 'saint-philippe', 'armidale', 'pevek', 'butaritari', 'penzance', 'mys shmidta', 'taoudenni', 'kapaa', 'tongliao', 'tasiilaq', 'new norfolk', 'yellowknife', 'margate', 'hasaki', 'east london', 'dikson', 'bluff', 'pacific grove', 'cape town', 'kruisfontein', 'flinders', 'busselton', 'khatanga', 'asyut', 'ugoofaaru', 'vila velha', 'talnakh', 'pangnirtung', 'vila do maio', 'hobart', 'vila franca do campo', 'atuona', 'belushya guba', 'vestmanna', 'barentsburg', 'chicama', 'ucluelet', 'victoria', 'taolanaro', 'hambantota', 'bethel', 'durazno', 'isangel', 'krasnoyarsk-45', 'mollendo', 'nikolskoye', 'avarua', 'petropavlovsk-kamchatskiy', 'gurupa', 'kihurio', 'teknaf', 'danesti', 'churapcha', 'mar del plata', 'olafsvik', 'lorengau', 'marathon', 'riyadh', 'kirakira', 'meyungs', 'qaanaaq', 'ponta do sol', 'zhigansk', 'guerrero negro', 'rawannawi', 'sorland', 'pisco', 'bom jesus', 'thunder bay', 'saint george', 'orlik', 'ludvika', 'kaitangata', 'qasigiannguit', 'tromso', 'itoman', 'el faiyum', 'pousat', 'maragogi', 'nioro', 'hovd', 'luwingu', 'adrar', 'islamkot', 'havoysund', 'debre sina', 'rabo de peixe', 'pak chong', 'surt', 'manubul', 'bonavista', 'wanning', 'cuilapam', 'san pedro', 'goderich', 'kualakapuas', 'kabinda', 'antsirabe', 'kendrapara', 'geraldton', 'caconda', 'gorontalo', 'shakhtinsk', 'deputatskiy', 'barrow', 'asosa', 'masumbwe', 'esperance', 'gat', 'hrubieszow', 'sistranda', 'leningradskiy', 'samusu', 'taldan', 'ponta delgada', 'kainantu', 'rawson', 'saint anthony', 'norman wells', 'mount gambier', 'landskrona', 'paragominas', 'ilulissat', 'takoradi', 'vostok', 'lebu', 'ajdabiya', 'muros', 'salina cruz', 'hermanus', 'druzhinino', 'kodiak', 'cap malheureux', 'antofagasta', 'san quintin', 'caravelas', 'broome', 'bengkulu', 'sambava', 'clyde river', 'aguazul', 'alofi', 'maxixe', 'sayanogorsk', 'ostrovnoy', 'sorong', 'loubomo', 'los llanos de aridane', 'auki', 'coquimbo', 'numan', 'grindavik', 'severo-kurilsk', 'tevaitoa', 'lavrentiya', 'fukue', 'buala', 'orvieto', 'yulara', 'carson city', 'sao filipe', 'lata', 'amderma', 'fuerte olimpo', 'the valley', 'ruiselede', 'portland', 'bambous virieux', 'biak', 'alexandria', 'upernavik', 'airai', 'tiksi', 'provideniya', 'valparaiso', 'kampene', 'dolores', 'anadyr', 'hilo', 'luganville', 'zmeinogorsk', 'fulton', 'mount isa', 'darovskoy', 'dunedin', 'chagoda', 'kralendijk', 'portadown', 'laguna', 'mahebourg', 'deniliquin', 'meulaboh', 'tunduru', 'komsomolskiy', 'bereznik', 'dinsor', 'nizhnyaya poyma', 'chapais', 'attawapiskat', 'ijaki', 'ambodifototra', 'sangar', 'kastamonu', 'kavaratti', 'praia da vitoria', 'ambilobe', 'mezen', 'grand gaube', 'dwarka', 'atar', 'sentyabrskiy', 'businga', 'caldwell', 'sayhat', 'celestun', 'comodoro rivadavia', 'asau', 'halalo', 'souillac', 'vaitupu', 'fairbanks', 'skjervoy', 'half moon bay', 'lakes entrance', 'huilong', 'jabiru', 'ahuimanu', 'borlange', 'tigil', 'tabarqah', 'marsh harbour', 'grand-santi', 'yar-sale', 'camapua', 'port-cartier', 'svetlogorsk', 'birsk', 'daman', 'faro', 'oktyabrskoye', 'illoqqortoormiut', 'mackay', 'arraial do cabo', 'nancha', 'beaverlodge', 'panaba', 'vanimo', 'safford', 'tianpeng', 'nanortalik', 'sumbawa', 'pavilosta', 'chokwe', 'jaguariaiva', 'kieta', 'la ronge', 'cherskiy', 'meshchovsk', 'presidencia roque saenz pena', 'amapa', 'codrington', 'bac lieu', 'trelew', 'viru', 'saryshagan', 'buarcos', 'khani', 'cabedelo', 'sedhiou', 'najran', 'erenhot', 'kamenka', 'port hardy', 'kavieng', 'grand river south east', 'tlaltenango', 'katsuura', 'calama', 'mayumba', 'honiara', 'nizhniy kuranakh', 'bousso', 'naze', 'vardo', 'adilabad', 'yanan', 'cockburn harbour', 'bambanglipuro', 'bowen', 'yirol', 'srednekolymsk', 'tommot', 'sens', 'pokhara', 'aksha', 'burica', 'road town', 'zaysan', 'olinda', 'trebisacce', 'san ramon de la nueva oran', 'vossevangen', 'palmer', 'muyezerskiy', 'namtsy', 'klaksvik', 'agva', 'massa marittima', 'pacifica', 'longyearbyen', 'kuah', 'lethem', 'arona', 'tabou', 'lagoa', 'semey', 'saldanha', 'zhezkazgan', 'chuy', 'cockburn town', 'kupang', 'bolungarvik', 'cidreira', 'berlevag', 'colborne', 'killarney', 'pauini', 'sinegorsk', 'nizhneyansk', 'longlac', 'yola', 'kibala', 'muisne', 'forbes', 'mucurapo', 'ahipara', 'oskarshamn', 'hailar', 'nishihara', 'husavik', 'bandarbeyla', 'sisimiut', 'standerton', 'suluq', 'christchurch', 'kyshtovka', 'vagur', 'pueblo nuevo', 'egvekinot', 'moshenskoye', 'cabo san lucas', 'gorodovikovsk', 'iranshahr', 'sicuani', 'tura', 'blyth', 'san cristobal', 'kabanjahe', 'yanam', 'taltal', 'alakurtti', 'barra patuca', 'katangli', 'hosakote', 'ibotirama', 'big rapids', 'weymouth', 'sao gabriel da cachoeira', 'port shepstone', 'port lincoln', 'freeport', 'praia', 'lompoc', 'kentau', 'simao', 'mujiayingzi', 'altay', 'belaya gora', 'coahuayana', 'novo aripuana', 'jalu', 'sur', 'pontes e lacerda', 'mentok', 'otradnoye', 'vao', 'funadhoo', 'narsaq', 'dodge city', 'parry sound', 'binzhou', 'ratnagiri', 'waipawa', 'kosh-agach', 'toliary', 'jumla', 'nouadhibou', 'emmett', 'thompson', 'ossora', 'iisalmi', 'ionia', 'saint-pierre', 'el colorado', 'qaqortoq', 'soderhamn', 'manzanillo', 'mayahi', 'mandalgovi', 'grand centre', 'ondorhaan', 'west monroe', 'omsukchan', 'pandamatenga', 'vitim', 'kristinehamn', 'hobyo', 'gangotri', 'constitucion', 'aswan', 'kuytun', 'fryanovo', 'yenangyaung', 'saint-augustin', 'gohand', 'sao mateus do sul', 'kribi', 'seoul', 'tasbuget', 'sueyoshi', 'baykit', 'san patricio', 'madison heights', 'roald', 'broken hill', 'kulu', 'barra', 'svetlaya', 'jiddah', 'pimentel', 'zolotinka', 'boksitogorsk', 'malibu', 'kokopo', 'shahrud', 'hamilton', 'north ogden', 'taburi', 'lumsden', 'golden', 'pitimbu', 'bandar', 'tanout', 'chake chake', 'coihaique', 'manuk mangkaw', 'tuggurt', 'anloga', 'surin', 'gbarnga', 'ikole', 'padang', 'wuchi', 'aykhal', 'lasa', 'haines junction', 'bartica', 'maloshuyka', 'barrancas', 'hami', 'inderborskiy', 'xichang', 'aberdeen', 'mogadishu', 'ipoh', 'hurghada', 'jimeta', 'hofn', 'zhanaozen', 'kurchum', 'kenai', 'hearst', 'houston', 'crowley', 'maldonado', 'lithgow', 'carballo', 'north bend', 'tiarei', 'marcona', 'klyuchi', 'kamaishi', 'chimoio', 'belyy yar', 'iskateley', 'chapada dos guimaraes', 'mineiros', 'emerald', 'pochutla', 'gamba', 'marquette', 'mehamn', 'neiafu', 'gurskoye', 'kovur', 'ngukurr', 'puerto del rosario', 'teluk nibung', 'ende', 'kalinovskoye', 'zeya', 'louisbourg', 'sovetskaya gavan', 'moron', 'rivera', 'craig', 'pyaozerskiy', 'elk city', 'namibe', 'atherton', 'luis correia', 'banda aceh', 'meadow lake', 'somotillo', 'alice springs', 'peniche', 'corn island', 'rocha', 'baghdad', 'tabiauea', 'laje', 'umzimvubu', 'tillabery', 'scottsburgh', 'yacuiba', 'leshukonskoye', 'katherine', 'addanki', 'dubenskiy', 'anchorage', 'vestmannaeyjar', 'scarborough', 'lovington', 'kegayli', 'nguiu', 'harper', 'bogorodskoye', 'sayan', 'islahiye', 'chabahar', 'sinegorye', 'najibabad', 'kefamenanu', 'ancud', 'fez', 'springdale', 'mpraeso', 'raudeberg', 'sovetsk', 'kayerkan', 'aksarka', 'udachnyy', 'mahibadhoo', 'jagdalpur', 'senador jose porfirio', 'lexington', 'suntar', 'shingu', 'inza', 'marktheidenfeld', 'fortuna', 'urumqi', 'faya']\n"
     ]
    }
   ],
   "source": [
    "# List for holding lat_lngs and cities\n",
    "lat_lngs = []\n",
    "cities = []\n",
    "\n",
    "# Create a set of random lat and lng combinations\n",
    "lats = np.random.uniform(lat_range[0], lat_range[1], size=1500)\n",
    "lngs = np.random.uniform(lng_range[0], lng_range[1], size=1500)\n",
    "lat_lngs = zip(lats, lngs)\n",
    "\n",
    "# Identify nearest city for each lat, lng combination\n",
    "for lat_lng in lat_lngs:\n",
    "    city = citipy.nearest_city(lat_lng[0], lat_lng[1]).city_name\n",
    "    \n",
    "    # If the city is unique, then add it to a our cities list\n",
    "    if city not in cities:\n",
    "        cities.append(city)\n",
    "\n",
    "# Print the city count to confirm sufficient count\n",
    "print(cities)"
   ]
  },
  {
   "cell_type": "markdown",
   "metadata": {},
   "source": [
    "### Perform API Calls\n",
    "* Perform a weather check on each city using a series of successive API calls.\n",
    "* Include a print log of each city as it'sbeing processed (with the city number and city name).\n"
   ]
  },
  {
   "cell_type": "code",
   "execution_count": 116,
   "metadata": {
    "scrolled": true
   },
   "outputs": [
    {
     "name": "stdout",
     "output_type": "stream",
     "text": [
      "0:woodstock\n",
      "1:faanui\n",
      "2:vaini\n",
      "3:puerto ayora\n",
      "4:tsihombe cannot be found\n",
      "5:tuatapere\n",
      "6:haibowan cannot be found\n",
      "7:hithadhoo\n",
      "8:saskylakh\n",
      "9:mataura\n",
      "10:samarai\n",
      "11:rikitea\n",
      "12:la rioja\n",
      "13:iqaluit\n",
      "14:mayya\n",
      "15:punta arenas\n",
      "16:castro\n",
      "17:albany\n",
      "18:aklavik\n",
      "19:chokurdakh\n",
      "20:ushuaia\n",
      "21:georgetown\n",
      "22:carnarvon\n",
      "23:acapulco\n",
      "24:bredasdorp\n",
      "25:torbay\n",
      "26:kaputa\n",
      "27:podporozhye\n",
      "28:nelson bay\n",
      "29:karratha\n",
      "30:kloulklubed\n",
      "31:dingle\n",
      "32:nipawin\n",
      "33:port alfred\n",
      "34:volnovakha\n",
      "35:estacion coahuila\n",
      "36:ribeira grande\n",
      "37:tuktoyaktuk\n",
      "38:cayenne\n",
      "39:walvis bay\n",
      "40:nabire\n",
      "41:rio gallegos\n",
      "42:magangue\n",
      "43:jamestown\n",
      "44:barinas\n",
      "45:bathsheba\n",
      "46:sao joao da barra\n",
      "47:kahului\n",
      "48:saint-philippe\n",
      "49:armidale\n",
      "50:pevek\n",
      "51:butaritari\n",
      "52:penzance\n",
      "53:mys shmidta cannot be found\n",
      "54:taoudenni\n",
      "55:kapaa\n",
      "56:tongliao\n",
      "57:tasiilaq\n",
      "58:new norfolk\n",
      "59:yellowknife\n",
      "60:margate\n",
      "61:hasaki\n",
      "62:east london\n",
      "63:dikson\n",
      "64:bluff\n",
      "65:pacific grove\n",
      "66:cape town\n",
      "67:kruisfontein\n",
      "68:flinders\n",
      "69:busselton\n",
      "70:khatanga\n",
      "71:asyut\n",
      "72:ugoofaaru\n",
      "73:vila velha\n",
      "74:talnakh\n",
      "75:pangnirtung\n",
      "76:vila do maio\n",
      "77:hobart\n",
      "78:vila franca do campo\n",
      "79:atuona\n",
      "80:belushya guba cannot be found\n",
      "81:vestmanna\n",
      "82:barentsburg cannot be found\n",
      "83:chicama\n",
      "84:ucluelet\n",
      "85:victoria\n",
      "86:taolanaro cannot be found\n",
      "87:hambantota\n",
      "88:bethel\n",
      "89:durazno\n",
      "90:isangel\n",
      "91:krasnoyarsk-45 cannot be found\n",
      "92:mollendo\n",
      "93:nikolskoye\n",
      "94:avarua\n",
      "95:petropavlovsk-kamchatskiy\n",
      "96:gurupa\n",
      "97:kihurio\n",
      "98:teknaf\n",
      "99:danesti\n",
      "100:churapcha\n",
      "101:mar del plata\n",
      "102:olafsvik\n",
      "103:lorengau\n",
      "104:marathon\n",
      "105:riyadh\n",
      "106:kirakira\n",
      "107:meyungs cannot be found\n",
      "108:qaanaaq\n",
      "109:ponta do sol\n",
      "110:zhigansk\n",
      "111:guerrero negro\n",
      "112:rawannawi cannot be found\n",
      "113:sorland\n",
      "114:pisco\n",
      "115:bom jesus\n",
      "116:thunder bay\n",
      "117:saint george\n",
      "118:orlik\n",
      "119:ludvika\n",
      "120:kaitangata\n",
      "121:qasigiannguit\n",
      "122:tromso\n",
      "123:itoman\n",
      "124:el faiyum cannot be found\n",
      "125:pousat cannot be found\n",
      "126:maragogi\n",
      "127:nioro\n",
      "128:hovd\n",
      "129:luwingu\n",
      "130:adrar\n",
      "131:islamkot\n",
      "132:havoysund\n",
      "133:debre sina\n",
      "134:rabo de peixe\n",
      "135:pak chong\n",
      "136:surt\n",
      "137:manubul\n",
      "138:bonavista\n",
      "139:wanning\n",
      "140:cuilapam cannot be found\n",
      "141:san pedro\n",
      "142:goderich\n",
      "143:kualakapuas\n",
      "144:kabinda\n",
      "145:antsirabe\n",
      "146:kendrapara\n",
      "147:geraldton\n",
      "148:caconda\n",
      "149:gorontalo\n",
      "150:shakhtinsk\n",
      "151:deputatskiy\n",
      "152:barrow\n",
      "153:asosa\n",
      "154:masumbwe\n",
      "155:esperance\n",
      "156:gat\n",
      "157:hrubieszow\n",
      "158:sistranda\n",
      "159:leningradskiy\n",
      "160:samusu cannot be found\n",
      "161:taldan\n",
      "162:ponta delgada\n",
      "163:kainantu\n",
      "164:rawson\n",
      "165:saint anthony\n",
      "166:norman wells\n",
      "167:mount gambier\n",
      "168:landskrona\n",
      "169:paragominas\n",
      "170:ilulissat\n",
      "171:takoradi\n",
      "172:vostok\n",
      "173:lebu\n",
      "174:ajdabiya\n",
      "175:muros\n",
      "176:salina cruz\n",
      "177:hermanus\n",
      "178:druzhinino\n",
      "179:kodiak\n",
      "180:cap malheureux\n",
      "181:antofagasta\n",
      "182:san quintin\n",
      "183:caravelas\n",
      "184:broome\n",
      "185:bengkulu\n",
      "186:sambava\n",
      "187:clyde river\n",
      "188:aguazul\n",
      "189:alofi\n",
      "190:maxixe\n",
      "191:sayanogorsk\n",
      "192:ostrovnoy\n",
      "193:sorong\n",
      "194:loubomo\n",
      "195:los llanos de aridane\n",
      "196:auki\n",
      "197:coquimbo\n",
      "198:numan\n",
      "199:grindavik\n",
      "200:severo-kurilsk\n",
      "201:tevaitoa\n",
      "202:lavrentiya\n",
      "203:fukue\n",
      "204:buala\n",
      "205:orvieto\n",
      "206:yulara\n",
      "207:carson city\n",
      "208:sao filipe\n",
      "209:lata\n",
      "210:amderma cannot be found\n",
      "211:fuerte olimpo\n",
      "212:the valley\n",
      "213:ruiselede\n",
      "214:portland\n",
      "215:bambous virieux\n",
      "216:biak\n",
      "217:alexandria\n",
      "218:upernavik\n",
      "219:airai\n",
      "220:tiksi\n",
      "221:provideniya\n",
      "222:valparaiso\n",
      "223:kampene\n",
      "224:dolores\n",
      "225:anadyr\n",
      "226:hilo\n",
      "227:luganville\n",
      "228:zmeinogorsk\n",
      "229:fulton\n",
      "230:mount isa\n",
      "231:darovskoy\n",
      "232:dunedin\n",
      "233:chagoda\n",
      "234:kralendijk\n",
      "235:portadown\n",
      "236:laguna\n",
      "237:mahebourg\n",
      "238:deniliquin\n",
      "239:meulaboh\n",
      "240:tunduru cannot be found\n",
      "241:komsomolskiy\n",
      "242:bereznik\n",
      "243:dinsor cannot be found\n",
      "244:nizhnyaya poyma\n",
      "245:chapais\n",
      "246:attawapiskat cannot be found\n",
      "247:ijaki cannot be found\n",
      "248:ambodifototra cannot be found\n",
      "249:sangar\n",
      "250:kastamonu\n",
      "251:kavaratti\n",
      "252:praia da vitoria\n",
      "253:ambilobe\n",
      "254:mezen\n",
      "255:grand gaube\n",
      "256:dwarka\n",
      "257:atar\n",
      "258:sentyabrskiy cannot be found\n",
      "259:businga\n",
      "260:caldwell\n",
      "261:sayhat\n",
      "262:celestun\n",
      "263:comodoro rivadavia\n",
      "264:asau\n",
      "265:halalo cannot be found\n",
      "266:souillac\n",
      "267:vaitupu cannot be found\n",
      "268:fairbanks\n",
      "269:skjervoy\n",
      "270:half moon bay\n",
      "271:lakes entrance\n",
      "272:huilong\n",
      "273:jabiru cannot be found\n",
      "274:ahuimanu\n",
      "275:borlange cannot be found\n",
      "276:tigil\n",
      "277:tabarqah cannot be found\n",
      "278:marsh harbour\n",
      "279:grand-santi\n",
      "280:yar-sale\n",
      "281:camapua\n",
      "282:port-cartier\n",
      "283:svetlogorsk\n",
      "284:birsk\n",
      "285:daman\n",
      "286:faro\n",
      "287:oktyabrskoye\n",
      "288:illoqqortoormiut cannot be found\n",
      "289:mackay\n",
      "290:arraial do cabo\n",
      "291:nancha\n",
      "292:beaverlodge\n",
      "293:panaba\n",
      "294:vanimo\n",
      "295:safford\n",
      "296:tianpeng\n",
      "297:nanortalik\n",
      "298:sumbawa cannot be found\n",
      "299:pavilosta\n",
      "300:chokwe\n",
      "301:jaguariaiva\n",
      "302:kieta\n",
      "303:la ronge\n",
      "304:cherskiy\n",
      "305:meshchovsk\n",
      "306:presidencia roque saenz pena\n",
      "307:amapa\n",
      "308:codrington\n",
      "309:bac lieu\n",
      "310:trelew\n",
      "311:viru\n",
      "312:saryshagan cannot be found\n",
      "313:buarcos\n",
      "314:khani\n",
      "315:cabedelo\n",
      "316:sedhiou\n",
      "317:najran\n",
      "318:erenhot\n",
      "319:kamenka\n",
      "320:port hardy\n",
      "321:kavieng\n",
      "322:grand river south east cannot be found\n",
      "323:tlaltenango\n",
      "324:katsuura\n",
      "325:calama\n",
      "326:mayumba\n",
      "327:honiara\n",
      "328:nizhniy kuranakh\n",
      "329:bousso\n",
      "330:naze\n",
      "331:vardo\n",
      "332:adilabad\n",
      "333:yanan cannot be found\n",
      "334:cockburn harbour cannot be found\n",
      "335:bambanglipuro\n",
      "336:bowen\n",
      "337:yirol cannot be found\n",
      "338:srednekolymsk\n",
      "339:tommot\n",
      "340:sens\n",
      "341:pokhara\n",
      "342:aksha\n",
      "343:burica cannot be found\n",
      "344:road town\n",
      "345:zaysan\n",
      "346:olinda\n",
      "347:trebisacce\n",
      "348:san ramon de la nueva oran\n",
      "349:vossevangen\n",
      "350:palmer\n",
      "351:muyezerskiy\n",
      "352:namtsy\n",
      "353:klaksvik\n",
      "354:agva cannot be found\n",
      "355:massa marittima\n",
      "356:pacifica\n",
      "357:longyearbyen\n",
      "358:kuah\n",
      "359:lethem\n",
      "360:arona\n",
      "361:tabou\n",
      "362:lagoa\n",
      "363:semey\n",
      "364:saldanha\n",
      "365:zhezkazgan\n",
      "366:chuy\n",
      "367:cockburn town\n",
      "368:kupang\n",
      "369:bolungarvik cannot be found\n",
      "370:cidreira\n",
      "371:berlevag\n",
      "372:colborne\n",
      "373:killarney\n",
      "374:pauini\n",
      "375:sinegorsk\n",
      "376:nizhneyansk cannot be found\n",
      "377:longlac cannot be found\n",
      "378:yola\n",
      "379:kibala\n",
      "380:muisne\n",
      "381:forbes\n",
      "382:mucurapo\n",
      "383:ahipara\n",
      "384:oskarshamn\n",
      "385:hailar\n",
      "386:nishihara\n",
      "387:husavik\n",
      "388:bandarbeyla\n",
      "389:sisimiut\n",
      "390:standerton\n",
      "391:suluq\n",
      "392:christchurch\n",
      "393:kyshtovka\n",
      "394:vagur\n",
      "395:pueblo nuevo\n",
      "396:egvekinot\n",
      "397:moshenskoye\n",
      "398:cabo san lucas\n",
      "399:gorodovikovsk\n",
      "400:iranshahr\n",
      "401:sicuani\n",
      "402:tura\n",
      "403:blyth\n",
      "404:san cristobal\n",
      "405:kabanjahe\n",
      "406:yanam\n",
      "407:taltal\n",
      "408:alakurtti\n",
      "409:barra patuca\n",
      "410:katangli\n",
      "411:hosakote\n",
      "412:ibotirama\n",
      "413:big rapids\n",
      "414:weymouth\n",
      "415:sao gabriel da cachoeira\n",
      "416:port shepstone\n",
      "417:port lincoln\n",
      "418:freeport\n",
      "419:praia\n",
      "420:lompoc\n",
      "421:kentau\n",
      "422:simao\n",
      "423:mujiayingzi\n",
      "424:altay\n",
      "425:belaya gora\n",
      "426:coahuayana\n",
      "427:novo aripuana\n",
      "428:jalu\n",
      "429:sur\n",
      "430:pontes e lacerda\n",
      "431:mentok cannot be found\n",
      "432:otradnoye\n",
      "433:vao\n",
      "434:funadhoo\n",
      "435:narsaq\n",
      "436:dodge city\n",
      "437:parry sound\n",
      "438:binzhou\n",
      "439:ratnagiri\n",
      "440:waipawa\n",
      "441:kosh-agach\n",
      "442:toliary cannot be found\n",
      "443:jumla\n",
      "444:nouadhibou\n",
      "445:emmett\n",
      "446:thompson\n",
      "447:ossora\n",
      "448:iisalmi\n",
      "449:ionia\n",
      "450:saint-pierre\n",
      "451:el colorado\n",
      "452:qaqortoq\n",
      "453:soderhamn\n",
      "454:manzanillo\n",
      "455:mayahi\n",
      "456:mandalgovi\n",
      "457:grand centre cannot be found\n",
      "458:ondorhaan cannot be found\n",
      "459:west monroe\n",
      "460:omsukchan\n",
      "461:pandamatenga\n",
      "462:vitim\n",
      "463:kristinehamn\n",
      "464:hobyo\n",
      "465:gangotri cannot be found\n",
      "466:constitucion\n",
      "467:aswan\n",
      "468:kuytun\n",
      "469:fryanovo\n",
      "470:yenangyaung\n",
      "471:saint-augustin\n",
      "472:gohand\n",
      "473:sao mateus do sul\n",
      "474:kribi\n",
      "475:seoul\n",
      "476:tasbuget cannot be found\n",
      "477:sueyoshi\n",
      "478:baykit\n",
      "479:san patricio\n",
      "480:madison heights\n",
      "481:roald\n",
      "482:broken hill\n",
      "483:kulu\n",
      "484:barra\n",
      "485:svetlaya\n",
      "486:jiddah cannot be found\n",
      "487:pimentel\n",
      "488:zolotinka cannot be found\n",
      "489:boksitogorsk\n",
      "490:malibu\n",
      "491:kokopo\n",
      "492:shahrud\n",
      "493:hamilton\n",
      "494:north ogden\n",
      "495:taburi cannot be found\n",
      "496:lumsden\n",
      "497:golden\n",
      "498:pitimbu\n",
      "499:bandar\n",
      "500:tanout\n",
      "501:chake chake\n",
      "502:coihaique\n",
      "503:manuk mangkaw\n",
      "504:tuggurt cannot be found\n",
      "505:anloga\n",
      "506:surin\n",
      "507:gbarnga\n",
      "508:ikole cannot be found\n",
      "509:padang\n",
      "510:wuchi\n",
      "511:aykhal\n",
      "512:lasa\n",
      "513:haines junction\n",
      "514:bartica\n",
      "515:maloshuyka cannot be found\n",
      "516:barrancas\n",
      "517:hami\n",
      "518:inderborskiy cannot be found\n",
      "519:xichang\n",
      "520:aberdeen\n",
      "521:mogadishu\n",
      "522:ipoh\n",
      "523:hurghada\n",
      "524:jimeta\n",
      "525:hofn\n",
      "526:zhanaozen\n",
      "527:kurchum\n",
      "528:kenai\n",
      "529:hearst\n",
      "530:houston\n",
      "531:crowley\n",
      "532:maldonado\n",
      "533:lithgow\n",
      "534:carballo\n",
      "535:north bend\n",
      "536:tiarei\n",
      "537:marcona cannot be found\n",
      "538:klyuchi\n",
      "539:kamaishi\n",
      "540:chimoio\n",
      "541:belyy yar\n",
      "542:iskateley\n",
      "543:chapada dos guimaraes\n",
      "544:mineiros\n",
      "545:emerald\n",
      "546:pochutla\n",
      "547:gamba\n",
      "548:marquette\n",
      "549:mehamn\n",
      "550:neiafu\n",
      "551:gurskoye cannot be found\n",
      "552:kovur\n",
      "553:ngukurr cannot be found\n"
     ]
    },
    {
     "name": "stdout",
     "output_type": "stream",
     "text": [
      "554:puerto del rosario\n",
      "555:teluk nibung\n",
      "556:ende\n",
      "557:kalinovskoye\n",
      "558:zeya\n",
      "559:louisbourg cannot be found\n",
      "560:sovetskaya gavan\n",
      "561:moron\n",
      "562:rivera\n",
      "563:craig\n",
      "564:pyaozerskiy\n",
      "565:elk city\n",
      "566:namibe\n",
      "567:atherton\n",
      "568:luis correia\n",
      "569:banda aceh\n",
      "570:meadow lake\n",
      "571:somotillo\n",
      "572:alice springs\n",
      "573:peniche\n",
      "574:corn island\n",
      "575:rocha\n",
      "576:baghdad\n",
      "577:tabiauea cannot be found\n",
      "578:laje\n",
      "579:umzimvubu cannot be found\n",
      "580:tillabery cannot be found\n",
      "581:scottsburgh cannot be found\n",
      "582:yacuiba\n",
      "583:leshukonskoye\n",
      "584:katherine\n",
      "585:addanki\n",
      "586:dubenskiy cannot be found\n",
      "587:anchorage\n",
      "588:vestmannaeyjar\n",
      "589:scarborough\n",
      "590:lovington\n",
      "591:kegayli cannot be found\n",
      "592:nguiu cannot be found\n",
      "593:harper\n",
      "594:bogorodskoye\n",
      "595:sayan\n",
      "596:islahiye\n",
      "597:chabahar\n",
      "598:sinegorye\n",
      "599:najibabad\n",
      "600:kefamenanu\n",
      "601:ancud\n",
      "602:fez\n",
      "603:springdale\n",
      "604:mpraeso\n",
      "605:raudeberg\n",
      "606:sovetsk\n",
      "607:kayerkan\n",
      "608:aksarka\n",
      "609:udachnyy\n",
      "610:mahibadhoo\n",
      "611:jagdalpur\n",
      "612:senador jose porfirio\n",
      "613:lexington\n",
      "614:suntar\n",
      "615:shingu\n",
      "616:inza\n",
      "617:marktheidenfeld\n",
      "618:fortuna\n",
      "619:urumqi\n",
      "620:faya\n"
     ]
    }
   ],
   "source": [
    "# Save config information.\n",
    "url = \"http://api.openweathermap.org/data/2.5/weather?\"\n",
    "units = \"imperial\"\n",
    "\n",
    "found_cities = []\n",
    "lat = []\n",
    "long = []\n",
    "tempf = []\n",
    "humidity = []\n",
    "cloudiness = []\n",
    "windspeed = []\n",
    "\n",
    "# Build partial query URL\n",
    "query_url = f\"{url}appid={weather_api_key}&units={units}&q=\"\n",
    "\n",
    "# Loop through the list of cities and perform a request for data on each\n",
    "for index, city in enumerate(cities):\n",
    "    try:\n",
    "        response = requests.get(query_url + city).json()\n",
    "        lat.append(response['coord']['lat'])\n",
    "        long.append(response['coord']['lon'])\n",
    "        tempf.append(response['main']['temp'])\n",
    "        humidity.append(response['main']['humidity'])\n",
    "        cloudiness.append(response['clouds']['all'])\n",
    "        windspeed.append(response['wind']['speed'])\n",
    "        found_cities.append(city)\n",
    "        print(f\"{index}:{city}\")\n",
    "    except KeyError:\n",
    "        print(f'{index}:{city} cannot be found')\n",
    "\n"
   ]
  },
  {
   "cell_type": "code",
   "execution_count": 117,
   "metadata": {},
   "outputs": [
    {
     "data": {
      "text/plain": [
       "560"
      ]
     },
     "execution_count": 117,
     "metadata": {},
     "output_type": "execute_result"
    }
   ],
   "source": [
    "len(found_cities)"
   ]
  },
  {
   "cell_type": "code",
   "execution_count": 118,
   "metadata": {},
   "outputs": [
    {
     "data": {
      "text/plain": [
       "560"
      ]
     },
     "execution_count": 118,
     "metadata": {},
     "output_type": "execute_result"
    }
   ],
   "source": [
    "len(tempf)\n"
   ]
  },
  {
   "cell_type": "markdown",
   "metadata": {},
   "source": [
    "### Convert Raw Data to DataFrame\n",
    "* Export the city data into a .csv.\n",
    "* Display the DataFrame"
   ]
  },
  {
   "cell_type": "code",
   "execution_count": 119,
   "metadata": {},
   "outputs": [
    {
     "data": {
      "text/html": [
       "<div>\n",
       "<style scoped>\n",
       "    .dataframe tbody tr th:only-of-type {\n",
       "        vertical-align: middle;\n",
       "    }\n",
       "\n",
       "    .dataframe tbody tr th {\n",
       "        vertical-align: top;\n",
       "    }\n",
       "\n",
       "    .dataframe thead th {\n",
       "        text-align: right;\n",
       "    }\n",
       "</style>\n",
       "<table border=\"1\" class=\"dataframe\">\n",
       "  <thead>\n",
       "    <tr style=\"text-align: right;\">\n",
       "      <th></th>\n",
       "      <th>city</th>\n",
       "      <th>latitude</th>\n",
       "      <th>longitude</th>\n",
       "      <th>temperature_farenheit</th>\n",
       "      <th>humidity_percent</th>\n",
       "      <th>cloudiness_percent</th>\n",
       "      <th>windspeed_mph</th>\n",
       "    </tr>\n",
       "  </thead>\n",
       "  <tbody>\n",
       "    <tr>\n",
       "      <th>0</th>\n",
       "      <td>woodstock</td>\n",
       "      <td>43.13</td>\n",
       "      <td>-80.75</td>\n",
       "      <td>65.41</td>\n",
       "      <td>100</td>\n",
       "      <td>75</td>\n",
       "      <td>6.93</td>\n",
       "    </tr>\n",
       "    <tr>\n",
       "      <th>1</th>\n",
       "      <td>faanui</td>\n",
       "      <td>-16.48</td>\n",
       "      <td>-151.75</td>\n",
       "      <td>77.59</td>\n",
       "      <td>77</td>\n",
       "      <td>2</td>\n",
       "      <td>8.21</td>\n",
       "    </tr>\n",
       "    <tr>\n",
       "      <th>2</th>\n",
       "      <td>vaini</td>\n",
       "      <td>-21.20</td>\n",
       "      <td>-175.20</td>\n",
       "      <td>75.20</td>\n",
       "      <td>88</td>\n",
       "      <td>75</td>\n",
       "      <td>5.82</td>\n",
       "    </tr>\n",
       "    <tr>\n",
       "      <th>3</th>\n",
       "      <td>puerto ayora</td>\n",
       "      <td>-0.74</td>\n",
       "      <td>-90.35</td>\n",
       "      <td>66.00</td>\n",
       "      <td>93</td>\n",
       "      <td>46</td>\n",
       "      <td>1.01</td>\n",
       "    </tr>\n",
       "    <tr>\n",
       "      <th>4</th>\n",
       "      <td>tuatapere</td>\n",
       "      <td>-46.13</td>\n",
       "      <td>167.68</td>\n",
       "      <td>39.00</td>\n",
       "      <td>83</td>\n",
       "      <td>8</td>\n",
       "      <td>3.00</td>\n",
       "    </tr>\n",
       "  </tbody>\n",
       "</table>\n",
       "</div>"
      ],
      "text/plain": [
       "           city  latitude  longitude  temperature_farenheit  humidity_percent  \\\n",
       "0     woodstock     43.13     -80.75                  65.41               100   \n",
       "1        faanui    -16.48    -151.75                  77.59                77   \n",
       "2         vaini    -21.20    -175.20                  75.20                88   \n",
       "3  puerto ayora     -0.74     -90.35                  66.00                93   \n",
       "4     tuatapere    -46.13     167.68                  39.00                83   \n",
       "\n",
       "   cloudiness_percent  windspeed_mph  \n",
       "0                  75           6.93  \n",
       "1                   2           8.21  \n",
       "2                  75           5.82  \n",
       "3                  46           1.01  \n",
       "4                   8           3.00  "
      ]
     },
     "execution_count": 119,
     "metadata": {},
     "output_type": "execute_result"
    }
   ],
   "source": [
    "#put data into dataframe\n",
    "weather_df = pd.DataFrame()\n",
    "weather_df[\"city\"]=found_cities\n",
    "weather_df[\"latitude\"]=lat\n",
    "weather_df[\"longitude\"]=long\n",
    "weather_df[\"temperature_farenheit\"]=tempf\n",
    "weather_df[\"humidity_percent\"]=humidity\n",
    "weather_df[\"cloudiness_percent\"]=cloudiness\n",
    "weather_df[\"windspeed_mph\"]=windspeed\n",
    "\n",
    "weather_df.head()"
   ]
  },
  {
   "cell_type": "code",
   "execution_count": 120,
   "metadata": {},
   "outputs": [],
   "source": [
    "#print to csv\n",
    "weather_df.to_csv('output.csv')"
   ]
  },
  {
   "cell_type": "markdown",
   "metadata": {},
   "source": [
    "## Inspect the data and remove the cities where the humidity > 100%.\n",
    "----\n",
    "Skip this step if there are no cities that have humidity > 100%. "
   ]
  },
  {
   "cell_type": "code",
   "execution_count": 121,
   "metadata": {},
   "outputs": [
    {
     "data": {
      "text/plain": [
       "560"
      ]
     },
     "execution_count": 121,
     "metadata": {},
     "output_type": "execute_result"
    }
   ],
   "source": [
    "weather_df_clean=weather_df[weather_df[\"humidity_percent\"] <= 100]\n",
    "len(weather_df_clean)"
   ]
  },
  {
   "cell_type": "code",
   "execution_count": 122,
   "metadata": {},
   "outputs": [
    {
     "data": {
      "text/html": [
       "<div>\n",
       "<style scoped>\n",
       "    .dataframe tbody tr th:only-of-type {\n",
       "        vertical-align: middle;\n",
       "    }\n",
       "\n",
       "    .dataframe tbody tr th {\n",
       "        vertical-align: top;\n",
       "    }\n",
       "\n",
       "    .dataframe thead th {\n",
       "        text-align: right;\n",
       "    }\n",
       "</style>\n",
       "<table border=\"1\" class=\"dataframe\">\n",
       "  <thead>\n",
       "    <tr style=\"text-align: right;\">\n",
       "      <th></th>\n",
       "      <th>city</th>\n",
       "      <th>latitude</th>\n",
       "      <th>longitude</th>\n",
       "      <th>temperature_farenheit</th>\n",
       "      <th>humidity_percent</th>\n",
       "      <th>cloudiness_percent</th>\n",
       "      <th>windspeed_mph</th>\n",
       "    </tr>\n",
       "  </thead>\n",
       "  <tbody>\n",
       "  </tbody>\n",
       "</table>\n",
       "</div>"
      ],
      "text/plain": [
       "Empty DataFrame\n",
       "Columns: [city, latitude, longitude, temperature_farenheit, humidity_percent, cloudiness_percent, windspeed_mph]\n",
       "Index: []"
      ]
     },
     "execution_count": 122,
     "metadata": {},
     "output_type": "execute_result"
    }
   ],
   "source": [
    "#  Get the indices of cities that have humidity over 100%.\n",
    "weather_df_humid=weather_df[weather_df[\"humidity_percent\"] > 100]\n",
    "weather_df_humid.head()"
   ]
  },
  {
   "cell_type": "code",
   "execution_count": 123,
   "metadata": {},
   "outputs": [],
   "source": [
    "# Make a new DataFrame equal to the city data to drop all humidity outliers by index.\n",
    "\n",
    "# Passing \"inplace=False\" will make a copy of the city_data DataFrame, which we call \"clean_city_data\".\n"
   ]
  },
  {
   "cell_type": "code",
   "execution_count": 124,
   "metadata": {},
   "outputs": [],
   "source": [
    "# Extract relevant fields from the data frame\n",
    "\n",
    "\n",
    "# Export the City_Data into a csv\n",
    "weather_df_clean.to_csv('output2.csv')"
   ]
  },
  {
   "cell_type": "markdown",
   "metadata": {},
   "source": [
    "## Plotting the Data\n",
    "* Use proper labeling of the plots using plot titles (including date of analysis) and axes labels.\n",
    "* Save the plotted figures as .pngs."
   ]
  },
  {
   "cell_type": "markdown",
   "metadata": {},
   "source": [
    "## Latitude vs. Temperature Plot"
   ]
  },
  {
   "cell_type": "code",
   "execution_count": 125,
   "metadata": {
    "scrolled": true
   },
   "outputs": [
    {
     "data": {
      "image/png": "[encoded data removed]",
      "text/plain": [
       "<Figure size 432x288 with 1 Axes>"
      ]
     },
     "metadata": {
      "needs_background": "light"
     },
     "output_type": "display_data"
    }
   ],
   "source": [
    "Latitude=weather_df_clean[\"latitude\"]\n",
    "Temperature=weather_df_clean[\"temperature_farenheit\"]\n",
    "plt.scatter(Latitude,Temperature)\n",
    "                              \n",
    "plt.title(\"Latitude vs. Temperature\")\n",
    "plt.xlabel(\"Latitude\")\n",
    "plt.ylabel(\"Temperature - farenheit\")\n",
    "plt.tight_layout()\n",
    "plt.show()\n"
   ]
  },
  {
   "cell_type": "markdown",
   "metadata": {},
   "source": [
    "## Latitude vs. Humidity Plot"
   ]
  },
  {
   "cell_type": "code",
   "execution_count": 126,
   "metadata": {},
   "outputs": [
    {
     "data": {
      "image/png": "[encoded data removed]",
      "text/plain": [
       "<Figure size 432x288 with 1 Axes>"
      ]
     },
     "metadata": {
      "needs_background": "light"
     },
     "output_type": "display_data"
    }
   ],
   "source": [
    "Latitude=weather_df_clean[\"latitude\"]\n",
    "Temperature=weather_df_clean[\"humidity_percent\"]\n",
    "plt.scatter(Latitude,Temperature)\n",
    "                              \n",
    "plt.title(\"Latitude vs. Humidity\")\n",
    "plt.xlabel(\"Latitude\")\n",
    "plt.ylabel(\"Humidity %\")\n",
    "plt.tight_layout()\n",
    "plt.show()\n"
   ]
  },
  {
   "cell_type": "markdown",
   "metadata": {},
   "source": [
    "## Latitude vs. Cloudiness Plot"
   ]
  },
  {
   "cell_type": "code",
   "execution_count": 127,
   "metadata": {},
   "outputs": [
    {
     "data": {
      "image/png": "[encoded data removed]",
      "text/plain": [
       "<Figure size 432x288 with 1 Axes>"
      ]
     },
     "metadata": {
      "needs_background": "light"
     },
     "output_type": "display_data"
    }
   ],
   "source": [
    "Latitude=weather_df_clean[\"latitude\"]\n",
    "Temperature=weather_df_clean[\"cloudiness_percent\"]\n",
    "plt.scatter(Latitude,Temperature)\n",
    "                              \n",
    "plt.title(\"Latitude vs. Cloudiness\")\n",
    "plt.xlabel(\"Latitude\")\n",
    "plt.ylabel(\"Cloudiness %\")\n",
    "plt.tight_layout()\n",
    "plt.show()\n"
   ]
  },
  {
   "cell_type": "markdown",
   "metadata": {},
   "source": [
    "## Latitude vs. Wind Speed Plot"
   ]
  },
  {
   "cell_type": "code",
   "execution_count": 128,
   "metadata": {},
   "outputs": [
    {
     "data": {
      "image/png": "[encoded data removed]",
      "text/plain": [
       "<Figure size 432x288 with 1 Axes>"
      ]
     },
     "metadata": {
      "needs_background": "light"
     },
     "output_type": "display_data"
    }
   ],
   "source": [
    "Latitude=weather_df_clean[\"latitude\"]\n",
    "Temperature=weather_df_clean[\"windspeed_mph\"]\n",
    "plt.scatter(Latitude,Temperature)\n",
    "                              \n",
    "plt.title(\"Latitude vs. Windspeed\")\n",
    "plt.xlabel(\"Latitude\")\n",
    "plt.ylabel(\"Windspeed\")\n",
    "plt.tight_layout()\n",
    "plt.show()\n"
   ]
  },
  {
   "cell_type": "markdown",
   "metadata": {},
   "source": [
    "## Linear Regression"
   ]
  },
  {
   "cell_type": "code",
   "execution_count": 129,
   "metadata": {},
   "outputs": [],
   "source": [
    "# OPTIONAL: Create a function to create Linear Regression plots"
   ]
  },
  {
   "cell_type": "code",
   "execution_count": 130,
   "metadata": {},
   "outputs": [],
   "source": [
    "# Create Northern and Southern Hemisphere DataFrames\n",
    "weather_df_north=weather_df[weather_df[\"latitude\"] > 0]\n",
    "weather_df_south=weather_df[weather_df[\"latitude\"] < 0]"
   ]
  },
  {
   "cell_type": "code",
   "execution_count": null,
   "metadata": {},
   "outputs": [],
   "source": []
  },
  {
   "cell_type": "markdown",
   "metadata": {},
   "source": [
    "####  Northern Hemisphere - Max Temp vs. Latitude Linear Regression"
   ]
  },
  {
   "cell_type": "code",
   "execution_count": 131,
   "metadata": {},
   "outputs": [
    {
     "name": "stdout",
     "output_type": "stream",
     "text": [
      "y = -0.43x + 88.99\n",
      "r squared = 0.3698767221839952\n",
      "standard error = 0.02849619903298582\n"
     ]
    },
    {
     "data": {
      "image/png": "[encoded data removed]",
      "text/plain": [
       "<Figure size 432x288 with 1 Axes>"
      ]
     },
     "metadata": {
      "needs_background": "light"
     },
     "output_type": "display_data"
    }
   ],
   "source": [
    "#x and y values\n",
    "x_vals = weather_df_north['latitude']\n",
    "y_vals = weather_df_north['temperature_farenheit']\n",
    "\n",
    "#run regression\n",
    "(slope, intercept, rvalue, pvalue, stderr) = linregress(x_vals, y_vals)\n",
    "regress_values = x_vals * slope + intercept\n",
    "line_eq = \"y = \" + str(round(slope,2)) + \"x + \" + str(round(intercept,2))\n",
    "\n",
    "# Plot scatter plot and regression line\n",
    "plt.scatter(x_vals,y_vals)\n",
    "plt.plot(x_vals,regress_values,\"r-\")\n",
    "plt.annotate(line_eq,(6,10),fontsize=15,color=\"red\")\n",
    "print(line_eq)\n",
    "print(f'r squared = {rvalue**2}')\n",
    "print(f'standard error = {stderr}')\n",
    "plt.show()"
   ]
  },
  {
   "cell_type": "markdown",
   "metadata": {},
   "source": [
    "####  Southern Hemisphere - Max Temp vs. Latitude Linear Regression"
   ]
  },
  {
   "cell_type": "code",
   "execution_count": 132,
   "metadata": {},
   "outputs": [
    {
     "name": "stdout",
     "output_type": "stream",
     "text": [
      "y = 0.85x + 81.22\n",
      "r squared = 0.6480817061821912\n",
      "standard error = 0.048687295742837616\n"
     ]
    },
    {
     "data": {
      "image/png": "[encoded data removed]",
      "text/plain": [
       "<Figure size 432x288 with 1 Axes>"
      ]
     },
     "metadata": {
      "needs_background": "light"
     },
     "output_type": "display_data"
    }
   ],
   "source": [
    "#x and y values\n",
    "x_vals = weather_df_south['latitude']\n",
    "y_vals = weather_df_south['temperature_farenheit']\n",
    "\n",
    "#run regression\n",
    "(slope, intercept, rvalue, pvalue, stderr) = linregress(x_vals, y_vals)\n",
    "regress_values = x_vals * slope + intercept\n",
    "line_eq = \"y = \" + str(round(slope,2)) + \"x + \" + str(round(intercept,2))\n",
    "\n",
    "# Plot scatter plot and regression line\n",
    "plt.scatter(x_vals,y_vals)\n",
    "plt.plot(x_vals,regress_values,\"r-\")\n",
    "plt.annotate(line_eq,(6,10),fontsize=15,color=\"red\")\n",
    "print(line_eq)\n",
    "print(f'r squared = {rvalue**2}')\n",
    "print(f'standard error = {stderr}')\n",
    "plt.show()"
   ]
  },
  {
   "cell_type": "markdown",
   "metadata": {},
   "source": [
    "####  Northern Hemisphere - Humidity (%) vs. Latitude Linear Regression"
   ]
  },
  {
   "cell_type": "code",
   "execution_count": 133,
   "metadata": {},
   "outputs": [
    {
     "name": "stdout",
     "output_type": "stream",
     "text": [
      "y = -0.07x + 70.94\n",
      "r squared = 0.0039924319300518206\n",
      "standard error = 0.05545364275559474\n"
     ]
    },
    {
     "data": {
      "image/png": "[encoded data removed]",
      "text/plain": [
       "<Figure size 432x288 with 1 Axes>"
      ]
     },
     "metadata": {
      "needs_background": "light"
     },
     "output_type": "display_data"
    }
   ],
   "source": [
    "#x and y values\n",
    "x_vals = weather_df_north['latitude']\n",
    "y_vals = weather_df_north['humidity_percent']\n",
    "\n",
    "#run regression\n",
    "(slope, intercept, rvalue, pvalue, stderr) = linregress(x_vals, y_vals)\n",
    "regress_values = x_vals * slope + intercept\n",
    "line_eq = \"y = \" + str(round(slope,2)) + \"x + \" + str(round(intercept,2))\n",
    "\n",
    "# Plot scatter plot and regression line\n",
    "plt.scatter(x_vals,y_vals)\n",
    "plt.plot(x_vals,regress_values,\"r-\")\n",
    "plt.annotate(line_eq,(6,10),fontsize=15,color=\"red\")\n",
    "print(line_eq)\n",
    "print(f'r squared = {rvalue**2}')\n",
    "print(f'standard error = {stderr}')\n",
    "plt.show()"
   ]
  },
  {
   "cell_type": "markdown",
   "metadata": {},
   "source": [
    "####  Southern Hemisphere - Humidity (%) vs. Latitude Linear Regression"
   ]
  },
  {
   "cell_type": "code",
   "execution_count": 134,
   "metadata": {},
   "outputs": [
    {
     "name": "stdout",
     "output_type": "stream",
     "text": [
      "y = -0.13x + 69.64\n",
      "r squared = 0.005945103393799435\n",
      "standard error = 0.13109615065787436\n"
     ]
    },
    {
     "data": {
      "image/png": "[encoded data removed]",
      "text/plain": [
       "<Figure size 432x288 with 1 Axes>"
      ]
     },
     "metadata": {
      "needs_background": "light"
     },
     "output_type": "display_data"
    }
   ],
   "source": [
    "#x and y values\n",
    "x_vals = weather_df_south['latitude']\n",
    "y_vals = weather_df_south['humidity_percent']\n",
    "\n",
    "#run regression\n",
    "(slope, intercept, rvalue, pvalue, stderr) = linregress(x_vals, y_vals)\n",
    "regress_values = x_vals * slope + intercept\n",
    "line_eq = \"y = \" + str(round(slope,2)) + \"x + \" + str(round(intercept,2))\n",
    "\n",
    "# Plot scatter plot and regression line\n",
    "plt.scatter(x_vals,y_vals)\n",
    "plt.plot(x_vals,regress_values,\"r-\")\n",
    "plt.annotate(line_eq,(6,10),fontsize=15,color=\"red\")\n",
    "print(line_eq)\n",
    "print(f'r squared = {rvalue**2}')\n",
    "print(f'standard error = {stderr}')\n",
    "plt.show()"
   ]
  },
  {
   "cell_type": "markdown",
   "metadata": {},
   "source": [
    "####  Northern Hemisphere - Cloudiness (%) vs. Latitude Linear Regression"
   ]
  },
  {
   "cell_type": "code",
   "execution_count": 135,
   "metadata": {},
   "outputs": [
    {
     "name": "stdout",
     "output_type": "stream",
     "text": [
      "y = -0.0x + 51.74\n",
      "r squared = 2.578256148626282e-07\n",
      "standard error = 0.09175963347039857\n"
     ]
    },
    {
     "data": {
      "image/png": "[encoded data removed]",
      "text/plain": [
       "<Figure size 432x288 with 1 Axes>"
      ]
     },
     "metadata": {
      "needs_background": "light"
     },
     "output_type": "display_data"
    }
   ],
   "source": [
    "#x and y values\n",
    "x_vals = weather_df_north['latitude']\n",
    "y_vals = weather_df_north['cloudiness_percent']\n",
    "\n",
    "#run regression\n",
    "(slope, intercept, rvalue, pvalue, stderr) = linregress(x_vals, y_vals)\n",
    "regress_values = x_vals * slope + intercept\n",
    "line_eq = \"y = \" + str(round(slope,2)) + \"x + \" + str(round(intercept,2))\n",
    "\n",
    "# Plot scatter plot and regression line\n",
    "plt.scatter(x_vals,y_vals)\n",
    "plt.plot(x_vals,regress_values,\"r-\")\n",
    "plt.annotate(line_eq,(6,10),fontsize=15,color=\"red\")\n",
    "print(line_eq)\n",
    "print(f'r squared = {rvalue**2}')\n",
    "print(f'standard error = {stderr}')\n",
    "plt.show()"
   ]
  },
  {
   "cell_type": "markdown",
   "metadata": {},
   "source": [
    "####  Southern Hemisphere - Cloudiness (%) vs. Latitude Linear Regression"
   ]
  },
  {
   "cell_type": "code",
   "execution_count": 136,
   "metadata": {},
   "outputs": [
    {
     "name": "stdout",
     "output_type": "stream",
     "text": [
      "y = 0.2x + 51.89\n",
      "r squared = 0.0049416388999834\n",
      "standard error = 0.22035868565073485\n"
     ]
    },
    {
     "data": {
      "image/png": "[encoded data removed]",
      "text/plain": [
       "<Figure size 432x288 with 1 Axes>"
      ]
     },
     "metadata": {
      "needs_background": "light"
     },
     "output_type": "display_data"
    }
   ],
   "source": [
    "#x and y values\n",
    "x_vals = weather_df_south['latitude']\n",
    "y_vals = weather_df_south['cloudiness_percent']\n",
    "\n",
    "#run regression\n",
    "(slope, intercept, rvalue, pvalue, stderr) = linregress(x_vals, y_vals)\n",
    "regress_values = x_vals * slope + intercept\n",
    "line_eq = \"y = \" + str(round(slope,2)) + \"x + \" + str(round(intercept,2))\n",
    "\n",
    "# Plot scatter plot and regression line\n",
    "plt.scatter(x_vals,y_vals)\n",
    "plt.plot(x_vals,regress_values,\"r-\")\n",
    "plt.annotate(line_eq,(6,10),fontsize=15,color=\"red\")\n",
    "print(line_eq)\n",
    "print(f'r squared = {rvalue**2}')\n",
    "print(f'standard error = {stderr}')\n",
    "plt.show()"
   ]
  },
  {
   "cell_type": "markdown",
   "metadata": {},
   "source": [
    "####  Northern Hemisphere - Wind Speed (mph) vs. Latitude Linear Regression"
   ]
  },
  {
   "cell_type": "code",
   "execution_count": 137,
   "metadata": {},
   "outputs": [
    {
     "name": "stdout",
     "output_type": "stream",
     "text": [
      "y = 0.02x + 7.52\n",
      "r squared = 0.0037649140203803084\n",
      "standard error = 0.013948690882983589\n"
     ]
    },
    {
     "data": {
      "image/png": "[encoded data removed]",
      "text/plain": [
       "<Figure size 432x288 with 1 Axes>"
      ]
     },
     "metadata": {
      "needs_background": "light"
     },
     "output_type": "display_data"
    }
   ],
   "source": [
    "#x and y values\n",
    "x_values = weather_df_north['latitude']\n",
    "y_values = weather_df_north['windspeed_mph']\n",
    "\n",
    "#run regression\n",
    "(slope, intercept, rvalue, pvalue, stderr) = linregress(x_values, y_values)\n",
    "regress_values = x_values * slope + intercept\n",
    "line_eq = \"y = \" + str(round(slope,2)) + \"x + \" + str(round(intercept,2))\n",
    "\n",
    "# Plot scatter plot and regression line\n",
    "plt.scatter(x_values,y_values)\n",
    "plt.plot(x_values,regress_values,\"r-\")\n",
    "plt.annotate(line_eq,(6,10),fontsize=15,color=\"red\")\n",
    "print(line_eq)\n",
    "print(f'r squared = {rvalue**2}')\n",
    "print(f'standard error = {stderr}')\n",
    "plt.show()"
   ]
  },
  {
   "cell_type": "markdown",
   "metadata": {},
   "source": [
    "####  Southern Hemisphere - Wind Speed (mph) vs. Latitude Linear Regression"
   ]
  },
  {
   "cell_type": "code",
   "execution_count": 138,
   "metadata": {},
   "outputs": [
    {
     "name": "stdout",
     "output_type": "stream",
     "text": [
      "y = -0.03x + 6.27\n",
      "r squared = 0.006415392276513721\n",
      "standard error = 0.029200613739888734\n"
     ]
    },
    {
     "data": {
      "image/png": "[encoded data removed]",
      "text/plain": [
       "<Figure size 432x288 with 1 Axes>"
      ]
     },
     "metadata": {
      "needs_background": "light"
     },
     "output_type": "display_data"
    }
   ],
   "source": [
    "#x and y values\n",
    "x_vals = weather_df_south['latitude']\n",
    "y_vals = weather_df_south['windspeed_mph']\n",
    "\n",
    "#run regression\n",
    "(slope, intercept, rvalue, pvalue, stderr) = linregress(x_vals, y_vals)\n",
    "regress_values = x_vals * slope + intercept\n",
    "line_eq = \"y = \" + str(round(slope,2)) + \"x + \" + str(round(intercept,2))\n",
    "\n",
    "# Plot scatter plot and regression line\n",
    "plt.scatter(x_vals,y_vals)\n",
    "plt.plot(x_vals,regress_values,\"r-\")\n",
    "plt.annotate(line_eq,(6,10),fontsize=15,color=\"red\")\n",
    "print(line_eq)\n",
    "print(f'r squared = {rvalue**2}')\n",
    "print(f'standard error = {stderr}')\n",
    "plt.show()"
   ]
  },
  {
   "cell_type": "markdown",
   "metadata": {},
   "source": [
    "# Discussion"
   ]
  },
  {
   "cell_type": "markdown",
   "metadata": {},
   "source": [
    "The only hemisphere plots with considerable linear corelation are the temperature x latitude plots, with the southern hemisphere plot being the more significant of the two."
   ]
  },
  {
   "cell_type": "code",
   "execution_count": null,
   "metadata": {},
   "outputs": [],
   "source": []
  }
 ],
 "metadata": {
  "anaconda-cloud": {},
  "kernel_info": {
   "name": "python3"
  },
  "kernelspec": {
   "display_name": "Python 3",
   "language": "python",
   "name": "python3"
  },
  "language_info": {
   "codemirror_mode": {
    "name": "ipython",
    "version": 3
   },
   "file_extension": ".py",
   "mimetype": "text/x-python",
   "name": "python",
   "nbconvert_exporter": "python",
   "pygments_lexer": "ipython3",
   "version": "3.7.6"
  },
  "latex_envs": {
   "LaTeX_envs_menu_present": true,
   "autoclose": false,
   "autocomplete": true,
   "bibliofile": "biblio.bib",
   "cite_by": "apalike",
   "current_citInitial": 1,
   "eqLabelWithNumbers": true,
   "eqNumInitial": 1,
   "hotkeys": {
    "equation": "Ctrl-E",
    "itemize": "Ctrl-I"
   },
   "labels_anchors": false,
   "latex_user_defs": false,
   "report_style_numbering": false,
   "user_envs_cfg": false
  },
  "nteract": {
   "version": "0.12.3"
  }
 },
 "nbformat": 4,
 "nbformat_minor": 2
}
